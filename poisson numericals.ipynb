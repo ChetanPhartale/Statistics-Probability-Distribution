{
 "cells": [
  {
   "cell_type": "markdown",
   "id": "0a7c38ed",
   "metadata": {},
   "source": [
    "# poisson Distribution"
   ]
  },
  {
   "cell_type": "code",
   "execution_count": 1,
   "id": "91181fe8",
   "metadata": {},
   "outputs": [],
   "source": [
    "from scipy.stats import binom,hypergeom,poisson,nbinom,expon,norm\n",
    "import matplotlib.pyplot as plt\n",
    "import pandas as pd\n",
    "import numpy as np"
   ]
  },
  {
   "cell_type": "code",
   "execution_count": null,
   "id": "331adff8",
   "metadata": {},
   "outputs": [],
   "source": [
    "# 1)\n",
    "# Telephone calls arrive at an average rate of 5 calls every 15 minutes at Slippers All Inclusive reservation desk. \n",
    "# What is the probability that less than 3 calls will arrive in any 15 minutes?\n"
   ]
  },
  {
   "cell_type": "code",
   "execution_count": 2,
   "id": "c9df002b",
   "metadata": {},
   "outputs": [
    {
     "data": {
      "text/plain": [
       "0.12465201948308108"
      ]
     },
     "execution_count": 2,
     "metadata": {},
     "output_type": "execute_result"
    }
   ],
   "source": [
    "# lambda = mean = 5\n",
    "# x < 3\n",
    "\n",
    "# poisson.cdf(x,mean)\n",
    "\n",
    "poisson.cdf(2,5)"
   ]
  },
  {
   "cell_type": "code",
   "execution_count": null,
   "id": "8cf8c0a2",
   "metadata": {},
   "outputs": [],
   "source": [
    "# 2)\n",
    "# If 3% of electronic units manufactured by a company are defective. \n",
    "# Find the probability that in a sample of 200 units, less than 2 bulbs are defective.\n"
   ]
  },
  {
   "cell_type": "code",
   "execution_count": 26,
   "id": "7502aeac",
   "metadata": {},
   "outputs": [
    {
     "name": "stdout",
     "output_type": "stream",
     "text": [
      "0.01735126523666451\n"
     ]
    }
   ],
   "source": [
    "# lambda = mean = 6\n",
    "# x < 2\n",
    "\n",
    "# poisson.cdf(x,mean)\n",
    "\n",
    "x1 = poisson.cdf(1,6)\n",
    "\n",
    "print(x1)"
   ]
  },
  {
   "cell_type": "code",
   "execution_count": null,
   "id": "bb842df4",
   "metadata": {},
   "outputs": [],
   "source": [
    "# 3)\n",
    "# As only 3 students came to attend the class today, \n",
    "# find the probability for exactly 4 students to attend the classes tomorrow."
   ]
  },
  {
   "cell_type": "code",
   "execution_count": 27,
   "id": "f1d2e5b9",
   "metadata": {},
   "outputs": [
    {
     "name": "stdout",
     "output_type": "stream",
     "text": [
      "0.16803135574154085\n"
     ]
    }
   ],
   "source": [
    "# lambda = mean = 3\n",
    "# x = 4\n",
    "\n",
    "# poisson.cdf(x,mean)\n",
    "\n",
    "x1 = poisson.pmf(4,3)\n",
    "\n",
    "print(x1)"
   ]
  },
  {
   "cell_type": "code",
   "execution_count": null,
   "id": "85a40e59",
   "metadata": {},
   "outputs": [],
   "source": [
    "# 4)\n",
    "# In a cafe, the customer arrives at a mean rate of 2 per min. \n",
    "# Find the probability of arrival of 5 customers in 1 minute using the Poisson distribution formula."
   ]
  },
  {
   "cell_type": "code",
   "execution_count": 28,
   "id": "50e9a4d9",
   "metadata": {},
   "outputs": [
    {
     "name": "stdout",
     "output_type": "stream",
     "text": [
      "0.03608940886309672\n"
     ]
    }
   ],
   "source": [
    "# lambda = mean = 2\n",
    "# x = 5\n",
    "\n",
    "# poisson.cdf(x,mean)\n",
    "\n",
    "x1 = poisson.pmf(5,2)\n",
    "\n",
    "print(x1)"
   ]
  },
  {
   "cell_type": "code",
   "execution_count": null,
   "id": "8d7eff8f",
   "metadata": {},
   "outputs": [],
   "source": [
    "# 5)\n",
    "# An automobile company has average defects per unit (DPU) 0f 0.3, \n",
    "# what is the probability they would find 3 defects in a vehicle? \n",
    "# Here we can use Poisson distribution to calculate the probability."
   ]
  },
  {
   "cell_type": "code",
   "execution_count": 29,
   "id": "cddeac29",
   "metadata": {},
   "outputs": [
    {
     "name": "stdout",
     "output_type": "stream",
     "text": [
      "0.0033336819930677277\n"
     ]
    }
   ],
   "source": [
    "# lambda = mean = 0.3\n",
    "# x = 3\n",
    "\n",
    "# poisson.cdf(x,mean)\n",
    "\n",
    "x1 = poisson.pmf(3,0.3)\n",
    "\n",
    "print(x1)"
   ]
  },
  {
   "cell_type": "code",
   "execution_count": null,
   "id": "adb01251",
   "metadata": {},
   "outputs": [],
   "source": [
    "# 6)\n",
    "# The number of industrial injuries per working week in a particular factory is known \n",
    "# to follow a Poisson distribution with mean 0.5. Find the probability that \n",
    "# (a) in a particular week there will be :\n",
    "# (i) less than 2 accidents, \n",
    "# (ii) more than 2 accidents.\n"
   ]
  },
  {
   "cell_type": "code",
   "execution_count": 14,
   "id": "7de7632b",
   "metadata": {},
   "outputs": [
    {
     "name": "stdout",
     "output_type": "stream",
     "text": [
      "0.9097959895689501\n",
      "0.014387677966970713\n",
      "0.6065306597126334\n"
     ]
    }
   ],
   "source": [
    "# lambda = mean = 0.5\n",
    "# x1 = 0,1\n",
    "# x2 = 3\n",
    "# x3 = 0\n",
    "\n",
    "# poisson.cdf(x,mean)\n",
    "\n",
    "# i)\n",
    "x1 = poisson.cdf(1,0.5)\n",
    "\n",
    "# ii)\n",
    "x2 = 1-poisson.cdf(2,0.5)\n",
    "\n",
    "# ii)\n",
    "x3 = poisson.pmf(0,0.5)\n",
    "\n",
    "print(x1)\n",
    "print(x2)\n",
    "print(x3)"
   ]
  },
  {
   "cell_type": "code",
   "execution_count": null,
   "id": "7e7cfd34",
   "metadata": {},
   "outputs": [],
   "source": [
    "# 7)\n",
    "# A life insurance salesman sells on the average 3 life insurance policies per week. \n",
    "# Use Poisson's law to calculate the probability that in a given week he will sell \n",
    "# i) Some policies\n",
    "# ii) 2 or more policies but less than 5 policies.\n",
    "# iii) Assuming that there are 5 working days per week, what is the probability that in a given day he will sell one policy?\n"
   ]
  },
  {
   "cell_type": "code",
   "execution_count": 12,
   "id": "3c9244d8",
   "metadata": {},
   "outputs": [
    {
     "name": "stdout",
     "output_type": "stream",
     "text": [
      "0.6472318887822313\n",
      "0.6161149710523164\n",
      "0.10081881344492458\n"
     ]
    }
   ],
   "source": [
    "# lambda = mean = 3\n",
    "# x1 = 0,1,2,3\n",
    "# x2 = 2,3,4\n",
    "# x3 = 5\n",
    "\n",
    "# poisson.cdf(x,mean)\n",
    "\n",
    "# i)\n",
    "x1 = poisson.cdf(3,3)\n",
    "\n",
    "# ii)\n",
    "x2 = poisson.pmf(2,3)+poisson.pmf(3,3)+poisson.pmf(4,3)\n",
    "\n",
    "# ii)\n",
    "x3 = poisson.pmf(5,3)\n",
    "\n",
    "print(x1)\n",
    "print(x2)\n",
    "print(x3)"
   ]
  },
  {
   "cell_type": "code",
   "execution_count": null,
   "id": "96444b36",
   "metadata": {},
   "outputs": [],
   "source": [
    "# 8)\n",
    "# The average number of misprints per page of a book is 1.5.\n",
    "# Assuming the distribution of number of misprints to be poisson ,Find\n",
    "# 1.The probability that a particular book is free from misprints.\n",
    "# 2.Number of pages containing more than one misprint if the book contains 900 pages..\n"
   ]
  },
  {
   "cell_type": "code",
   "execution_count": 16,
   "id": "83268e2c",
   "metadata": {},
   "outputs": [
    {
     "name": "stdout",
     "output_type": "stream",
     "text": [
      "0.22313016014842982\n",
      "0.44217459962892525\n"
     ]
    }
   ],
   "source": [
    "# lambda = mean = 1.5\n",
    "# x1 = 0\n",
    "# x2 = 1,0\n",
    "\n",
    "# poisson.cdf(x,mean)\n",
    "\n",
    "# i)\n",
    "x1 = poisson.cdf(0,1.5)\n",
    "\n",
    "# ii)\n",
    "x2 = 1-poisson.cdf(1,1.5)\n",
    "\n",
    "print(x1)\n",
    "print(x2)\n"
   ]
  },
  {
   "cell_type": "code",
   "execution_count": null,
   "id": "0215d1e0",
   "metadata": {},
   "outputs": [],
   "source": [
    "# 9)\n",
    "# If the random variable X follows a Poisson distribution with mean 3.4, \n",
    "# find P (X = 6).\n"
   ]
  },
  {
   "cell_type": "code",
   "execution_count": 17,
   "id": "09325123",
   "metadata": {},
   "outputs": [
    {
     "data": {
      "text/plain": [
       "0.07160440945982202"
      ]
     },
     "execution_count": 17,
     "metadata": {},
     "output_type": "execute_result"
    }
   ],
   "source": [
    "# lambda = mean = 3.4\n",
    "# x = 6\n",
    "\n",
    "# poisson.cdf(x,mean)\n",
    "\n",
    "poisson.pmf(6,3.4)"
   ]
  },
  {
   "cell_type": "code",
   "execution_count": null,
   "id": "bbba7f5b",
   "metadata": {},
   "outputs": [],
   "source": [
    "# 10)\n",
    "# A Council is considering whether to base a recovery vehicle on a stretch of road \n",
    "# to help clear incidents as quickly as possible. \n",
    "# The road concerned carries over 5000 vehicles during the peak rush hour period. \n",
    "# Records show that, on average, the number of incidents during the morning rush hour is 5. \n",
    "# The Council won’t base a vehicle on the road if the probability of having more than 5 incidents in any one morning is less than 30%. \n",
    "# Based on this information should the Council provide a vehicle? \n"
   ]
  },
  {
   "cell_type": "code",
   "execution_count": 21,
   "id": "1379e853",
   "metadata": {},
   "outputs": [
    {
     "name": "stdout",
     "output_type": "stream",
     "text": [
      "0.38403934516693705\n"
     ]
    }
   ],
   "source": [
    "# lambda = mean = 5\n",
    "# x = 5\n",
    "\n",
    "# poisson.cdf(x,mean)\n",
    "\n",
    "x1 = 1-poisson.cdf(5,5)\n",
    "\n",
    "print(x1)\n",
    "\n",
    "# as probability of having more than 5 incidents incidents is greater than 30%, the council should provide the vehicle"
   ]
  },
  {
   "cell_type": "code",
   "execution_count": null,
   "id": "0c4d6722",
   "metadata": {},
   "outputs": [],
   "source": [
    "# 11)\n",
    "# A customer help center receives on average 3.5 calls every hour.\n",
    "# a) What is the probability that it will receive at most 4 calls every hour?\n",
    "# b) What is the probability that it will receive at least 5 calls every hour?\n"
   ]
  },
  {
   "cell_type": "code",
   "execution_count": 22,
   "id": "d395c326",
   "metadata": {},
   "outputs": [
    {
     "name": "stdout",
     "output_type": "stream",
     "text": [
      "0.7254449533096043\n",
      "0.27455504669039565\n"
     ]
    }
   ],
   "source": [
    "# lambda = mean = 3.5\n",
    "# x1 <=4 \n",
    "# x2 > 5\n",
    "\n",
    "# poisson.cdf(x,mean)\n",
    "\n",
    "# i)\n",
    "x1 = poisson.cdf(4,3.5)\n",
    "\n",
    "# ii)\n",
    "x2 = 1-poisson.cdf(4,3.5)\n",
    "\n",
    "print(x1)\n",
    "print(x2)\n"
   ]
  },
  {
   "cell_type": "code",
   "execution_count": null,
   "id": "d70be4a2",
   "metadata": {},
   "outputs": [],
   "source": [
    "# 12)\n",
    "# An average of 0.61 soldiers died by horse kicks per year in each Prussian army corps. \n",
    "# You want to calculate the probability that exactly two soldiers died in the VII Army Corps in 1898, \n",
    "# assuming that the number of horse kick deaths per year follows a Poisson distribution.\n"
   ]
  },
  {
   "cell_type": "code",
   "execution_count": 23,
   "id": "45276dbb",
   "metadata": {},
   "outputs": [
    {
     "name": "stdout",
     "output_type": "stream",
     "text": [
      "0.024114671598744697\n"
     ]
    }
   ],
   "source": [
    "# lambda = mean = 0.61\n",
    "# x = 2\n",
    "\n",
    "# poisson.cdf(x,mean)\n",
    "\n",
    "x1 = 1-poisson.cdf(2,0.61)\n",
    "\n",
    "print(x1)"
   ]
  },
  {
   "cell_type": "code",
   "execution_count": null,
   "id": "c9bf6618",
   "metadata": {},
   "outputs": [],
   "source": [
    "# 13)\n",
    "# The mean number of power outages in the city of Brunswick is 4 per year. Find the probability that in a given year,\n",
    "# a)there are exactly 3 outages,\n",
    "# b)there are more than 3 outages.\n"
   ]
  },
  {
   "cell_type": "code",
   "execution_count": 24,
   "id": "06a6a630",
   "metadata": {},
   "outputs": [
    {
     "name": "stdout",
     "output_type": "stream",
     "text": [
      "0.19536681481316454\n",
      "0.19536681481316454\n"
     ]
    }
   ],
   "source": [
    "# lambda = mean = 4\n",
    "# x1 = 3 \n",
    "# x2 > 3\n",
    "\n",
    "# poisson.cdf(x,mean)\n",
    "\n",
    "# i)\n",
    "x1 = poisson.pmf(3,4)\n",
    "\n",
    "# ii)\n",
    "x2 = poisson.pmf(4,4)\n",
    "\n",
    "print(x1)\n",
    "print(x2)"
   ]
  },
  {
   "cell_type": "code",
   "execution_count": null,
   "id": "e1238e35",
   "metadata": {},
   "outputs": [],
   "source": [
    "# 14)\n",
    "# A manufacturer knows that the bulb he makes consists of 2% of bulbs as defective.\n",
    "# If he makes 200 bulbs then what is the probability that less than 4 bulbs are defective."
   ]
  },
  {
   "cell_type": "code",
   "execution_count": 25,
   "id": "aff01f80",
   "metadata": {},
   "outputs": [
    {
     "name": "stdout",
     "output_type": "stream",
     "text": [
      "0.43347012036670896\n"
     ]
    }
   ],
   "source": [
    "# lambda = mean = 4\n",
    "# x < 4\n",
    "\n",
    "# poisson.cdf(x,mean)\n",
    "\n",
    "x1 = poisson.cdf(3,4)\n",
    "\n",
    "print(x1)"
   ]
  }
 ],
 "metadata": {
  "kernelspec": {
   "display_name": "Python 3 (ipykernel)",
   "language": "python",
   "name": "python3"
  },
  "language_info": {
   "codemirror_mode": {
    "name": "ipython",
    "version": 3
   },
   "file_extension": ".py",
   "mimetype": "text/x-python",
   "name": "python",
   "nbconvert_exporter": "python",
   "pygments_lexer": "ipython3",
   "version": "3.9.12"
  }
 },
 "nbformat": 4,
 "nbformat_minor": 5
}
