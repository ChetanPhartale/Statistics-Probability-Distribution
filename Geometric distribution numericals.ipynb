{
 "cells": [
  {
   "cell_type": "code",
   "execution_count": 2,
   "id": "9d870fce",
   "metadata": {},
   "outputs": [],
   "source": [
    "from scipy.stats import binom,hypergeom,poisson,nbinom,expon,norm\n",
    "import matplotlib.pyplot as plt\n",
    "import pandas as pd\n",
    "import numpy as np"
   ]
  },
  {
   "cell_type": "code",
   "execution_count": null,
   "id": "d3e4901b",
   "metadata": {},
   "outputs": [],
   "source": [
    "# 1)\n",
    "# Suppose you are playing a game of darts. \n",
    "# The probability of success is 0.4. What is the probability that you will hit the bullseye on the 3rd try?"
   ]
  },
  {
   "cell_type": "code",
   "execution_count": 3,
   "id": "853c05e3",
   "metadata": {},
   "outputs": [
    {
     "name": "stdout",
     "output_type": "stream",
     "text": [
      "0.08639999999999998\n"
     ]
    }
   ],
   "source": [
    "# p = probability = 0.4\n",
    "# n = 1\n",
    "# k = 3\n",
    "\n",
    "# nbinom.pmf(k= , n=1, p= )\n",
    "\n",
    "x1 = nbinom.pmf(k=3, n=1, p=0.4)\n",
    "\n",
    "print(x1)"
   ]
  },
  {
   "cell_type": "code",
   "execution_count": null,
   "id": "8d113d13",
   "metadata": {},
   "outputs": [],
   "source": [
    "# 2) \n",
    "# A light bulb manufacturing factory finds 3 in every 60 light bulbs defective. \n",
    "# What is the probability that the first defective light bulb with be found when the 6th one is tested?\n"
   ]
  },
  {
   "cell_type": "code",
   "execution_count": 4,
   "id": "cd359715",
   "metadata": {},
   "outputs": [
    {
     "name": "stdout",
     "output_type": "stream",
     "text": [
      "0.03675459453125\n"
     ]
    }
   ],
   "source": [
    "# p = probability = 0.05\n",
    "# n = 1\n",
    "# k = 6\n",
    "\n",
    "# nbinom.pmf(k= , n=1, p= )\n",
    "\n",
    "x1 = nbinom.pmf(k=6, n=1, p=0.05)\n",
    "\n",
    "print(x1)"
   ]
  },
  {
   "cell_type": "code",
   "execution_count": null,
   "id": "b8442c7e",
   "metadata": {},
   "outputs": [],
   "source": [
    "# 3)\n",
    "# Suppose Max owns a lightbulb manufacturing company and determines 3 out of every 75 bulbs are defective.\n",
    "# what is the probability that max will find the first faulty lightbulb on the 6th one that he tested?\n"
   ]
  },
  {
   "cell_type": "code",
   "execution_count": 5,
   "id": "1730be0a",
   "metadata": {},
   "outputs": [
    {
     "name": "stdout",
     "output_type": "stream",
     "text": [
      "0.03131031158784\n"
     ]
    }
   ],
   "source": [
    "# p = probability = 0.04\n",
    "# n = 1\n",
    "# k = 6\n",
    "\n",
    "# nbinom.pmf(k= , n=1, p= )\n",
    "\n",
    "x1 = nbinom.pmf(k=6, n=1, p=0.04)\n",
    "\n",
    "print(x1)"
   ]
  },
  {
   "cell_type": "code",
   "execution_count": null,
   "id": "e9b0b3e9",
   "metadata": {},
   "outputs": [],
   "source": [
    "# 4)\n",
    "# In a class there are 35% students doing their homework regularly.\n",
    "# if from this class students are selected randomly ,\n",
    "# what is the probability that the 5th student’s homework is the 1st that has completed their homework?\n"
   ]
  },
  {
   "cell_type": "code",
   "execution_count": 6,
   "id": "bae7d6ce",
   "metadata": {},
   "outputs": [
    {
     "name": "stdout",
     "output_type": "stream",
     "text": [
      "0.040610171875000024\n"
     ]
    }
   ],
   "source": [
    "# p = probability = 0.35\n",
    "# n = 1\n",
    "# k = 5\n",
    "\n",
    "# nbinom.pmf(k= , n=1, p= )\n",
    "\n",
    "x1 = nbinom.pmf(k=5, n=1, p=0.35)\n",
    "\n",
    "print(x1)"
   ]
  },
  {
   "cell_type": "code",
   "execution_count": null,
   "id": "643833d6",
   "metadata": {},
   "outputs": [],
   "source": [
    "# 5)\n",
    "# Suppose it’s known that 4% of individuals who visit a certain bank are visiting to file bankruptcy. \n",
    "# Suppose a banker wants to know the probability that he will meet with less than 10 people \n",
    "# before encountering someone who is filing for bankruptcy."
   ]
  },
  {
   "cell_type": "code",
   "execution_count": 7,
   "id": "585db261",
   "metadata": {},
   "outputs": [
    {
     "name": "stdout",
     "output_type": "stream",
     "text": [
      "0.33516736400849895\n"
     ]
    }
   ],
   "source": [
    "# p = probability = 0.04\n",
    "# n = 1\n",
    "# k < 10\n",
    "\n",
    "# nbinom.pmf(k= , n=1, p= )\n",
    "\n",
    "x1 = nbinom.cdf(k=9, n=1, p=0.04)\n",
    "\n",
    "print(x1)"
   ]
  },
  {
   "cell_type": "code",
   "execution_count": null,
   "id": "8cf3205d",
   "metadata": {},
   "outputs": [],
   "source": [
    "# 6)\n",
    "# Suppose a dice is repeatedly rolled until \"3\" is obtained. \n",
    "# Then the probability of getting \"3\" is p = 1 / 6 and the random variable, X, can take on a value of 1, 2, 3, ...., until the first success is obtained. \n",
    "# This is an example of a geometric distribution with p = 1 / 6."
   ]
  },
  {
   "cell_type": "code",
   "execution_count": null,
   "id": "8484e814",
   "metadata": {},
   "outputs": [],
   "source": [
    "# p = probability = 1/6\n",
    "# n = 1\n",
    "# k = ?\n",
    "\n",
    "# nbinom.pmf(k= , n=1, p= )\n",
    "\n",
    "x1 = nbinom.pmf(k=, n=1, p=1/6)\n",
    "\n",
    "print(x1)"
   ]
  },
  {
   "cell_type": "code",
   "execution_count": null,
   "id": "8f34b7e4",
   "metadata": {},
   "outputs": [],
   "source": [
    "# 7)\n",
    "# Suppose you are playing a game of darts. \n",
    "# The probability of success is 0.4. What is the probability that you will hit the bullseye on the third try?"
   ]
  },
  {
   "cell_type": "code",
   "execution_count": 8,
   "id": "b3f25a76",
   "metadata": {},
   "outputs": [
    {
     "name": "stdout",
     "output_type": "stream",
     "text": [
      "0.08639999999999998\n"
     ]
    }
   ],
   "source": [
    "# p = probability = 0.4\n",
    "# n = 1\n",
    "# k = 3\n",
    "\n",
    "# nbinom.pmf(k= , n=1, p= )\n",
    "\n",
    "x1 = nbinom.pmf(k=3, n=1, p=0.4)\n",
    "\n",
    "print(x1)"
   ]
  },
  {
   "cell_type": "code",
   "execution_count": null,
   "id": "3e35618f",
   "metadata": {},
   "outputs": [],
   "source": [
    "# 8)\n",
    "# If your probability of success is 0.2, \n",
    "# what is the probability you meet an independent voter on your third try?  \n",
    "# Inserting 0.2 as p and with X = 3, the probability density function becomes:\n"
   ]
  },
  {
   "cell_type": "code",
   "execution_count": 9,
   "id": "53b5e5f9",
   "metadata": {},
   "outputs": [
    {
     "name": "stdout",
     "output_type": "stream",
     "text": [
      "0.10240000000000005\n"
     ]
    }
   ],
   "source": [
    "# p = probability = 0.2\n",
    "# n = 1\n",
    "# k = 3\n",
    "\n",
    "# nbinom.pmf(k= , n=1, p= )\n",
    "\n",
    "x1 = nbinom.pmf(k=3, n=1, p=0.2)\n",
    "\n",
    "print(x1)"
   ]
  },
  {
   "cell_type": "code",
   "execution_count": null,
   "id": "29b2688d",
   "metadata": {},
   "outputs": [],
   "source": [
    "# 9)\n",
    "# Matthew is a high school basketball player and a 75% free throw shooter. \n",
    "# Calculate what will be the probability that Matthew makes his first free throw on his fifth shot?\n"
   ]
  },
  {
   "cell_type": "code",
   "execution_count": 10,
   "id": "7aeaf8b2",
   "metadata": {},
   "outputs": [
    {
     "name": "stdout",
     "output_type": "stream",
     "text": [
      "0.0007324218749999995\n"
     ]
    }
   ],
   "source": [
    "# p = probability = 0.75\n",
    "# n = 1\n",
    "# k = 5\n",
    "\n",
    "# nbinom.pmf(k= , n=1, p= )\n",
    "\n",
    "x1 = nbinom.pmf(k=5, n=1, p=0.75)\n",
    "\n",
    "print(x1)"
   ]
  },
  {
   "cell_type": "code",
   "execution_count": null,
   "id": "e160b306",
   "metadata": {},
   "outputs": [],
   "source": [
    "# 10)\n",
    "# You play a game of chance that you can either win or lose (there are no other possibilities) until you lose. Your probability of losing is \n",
    "# p=0.57\n",
    "# What is the probability that it takes five games until you lose?\n"
   ]
  },
  {
   "cell_type": "code",
   "execution_count": 11,
   "id": "f9aab42b",
   "metadata": {},
   "outputs": [
    {
     "name": "stdout",
     "output_type": "stream",
     "text": [
      "0.008379481250999998\n"
     ]
    }
   ],
   "source": [
    "# p = probability = 0.57\n",
    "# n = 1\n",
    "# k = 5\n",
    "\n",
    "# nbinom.pmf(k= , n=1, p= )\n",
    "\n",
    "x1 = nbinom.pmf(k=5, n=1, p=0.57)\n",
    "\n",
    "print(x1)"
   ]
  }
 ],
 "metadata": {
  "kernelspec": {
   "display_name": "Python 3 (ipykernel)",
   "language": "python",
   "name": "python3"
  },
  "language_info": {
   "codemirror_mode": {
    "name": "ipython",
    "version": 3
   },
   "file_extension": ".py",
   "mimetype": "text/x-python",
   "name": "python",
   "nbconvert_exporter": "python",
   "pygments_lexer": "ipython3",
   "version": "3.9.12"
  }
 },
 "nbformat": 4,
 "nbformat_minor": 5
}
