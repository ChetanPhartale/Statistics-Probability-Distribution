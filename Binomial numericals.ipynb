{
 "cells": [
  {
   "cell_type": "code",
   "execution_count": 2,
   "id": "202a7baf",
   "metadata": {},
   "outputs": [],
   "source": [
    "from scipy.stats import binom,hypergeom,poisson,nbinom,expon,norm\n",
    "import matplotlib.pyplot as plt\n",
    "import pandas as pd\n",
    "import numpy as np"
   ]
  },
  {
   "cell_type": "code",
   "execution_count": null,
   "id": "1a036b1d",
   "metadata": {},
   "outputs": [],
   "source": [
    "# 1) \n",
    "# If from six to seven in the evening one telephone line in every five is engaged in a conversation: \n",
    "# what is the probability that when 10 telephone numbers are chosen at random, only two are in use?\n"
   ]
  },
  {
   "cell_type": "code",
   "execution_count": 3,
   "id": "605732f9",
   "metadata": {},
   "outputs": [
    {
     "name": "stdout",
     "output_type": "stream",
     "text": [
      "0.30198988800000004\n"
     ]
    }
   ],
   "source": [
    "# p =0.2\n",
    "# q =0.8\n",
    "# n =10\n",
    "# x =2\n",
    "\n",
    "# binom.pmf(x,n,p)\n",
    "\n",
    "x1 = binom.pmf(2,10,0.2)\n",
    "\n",
    "print(x1)"
   ]
  },
  {
   "cell_type": "code",
   "execution_count": null,
   "id": "f197ba9b",
   "metadata": {},
   "outputs": [],
   "source": [
    "# 2)\n",
    "# In the old days, there was a probability of 0.8 of success in any attempt to make a telephone call. \n",
    "# (This often depended on the importance of the person making the call, or the operator's curiosity!)\n",
    "# Calculate the probability of having 7 successes in 10 attempts.\n"
   ]
  },
  {
   "cell_type": "code",
   "execution_count": 4,
   "id": "3956be33",
   "metadata": {},
   "outputs": [
    {
     "name": "stdout",
     "output_type": "stream",
     "text": [
      "0.20132659199999978\n"
     ]
    }
   ],
   "source": [
    "# p =0.8\n",
    "# q =0.2\n",
    "# n =10\n",
    "# x =7\n",
    "\n",
    "# binom.pmf(x,n,p)\n",
    "\n",
    "x1 = binom.pmf(7,10,0.8)\n",
    "\n",
    "print(x1)"
   ]
  },
  {
   "cell_type": "code",
   "execution_count": null,
   "id": "93279256",
   "metadata": {},
   "outputs": [],
   "source": [
    "# 3)\n",
    "# A box of candies has many different colors in it.There is a 15% chance of getting a pink candy . \n",
    "# what is the probability that exactly 4 candies in a box are pink out of 10?\n"
   ]
  },
  {
   "cell_type": "code",
   "execution_count": 5,
   "id": "eb9da852",
   "metadata": {},
   "outputs": [
    {
     "name": "stdout",
     "output_type": "stream",
     "text": [
      "0.04009570787988276\n"
     ]
    }
   ],
   "source": [
    "# p =0.15\n",
    "# q =0.85\n",
    "# n =10\n",
    "# x =4\n",
    "\n",
    "# binom.pmf(x,n,p)\n",
    "\n",
    "x1 = binom.pmf(4,10,0.15)\n",
    "\n",
    "print(x1)"
   ]
  },
  {
   "cell_type": "code",
   "execution_count": null,
   "id": "ef57c413",
   "metadata": {},
   "outputs": [],
   "source": [
    "# 4)\n",
    "# The probability that a person can achieve a target is 3/4. The count of tries is 5. \n",
    "# What is the probability that he will attain the target at least thrice?\n"
   ]
  },
  {
   "cell_type": "code",
   "execution_count": 6,
   "id": "2431cbfd",
   "metadata": {},
   "outputs": [
    {
     "name": "stdout",
     "output_type": "stream",
     "text": [
      "0.26367187499999983\n"
     ]
    }
   ],
   "source": [
    "# p =3/4\n",
    "# q =1/4\n",
    "# n =5\n",
    "# x =3\n",
    "\n",
    "# binom.pmf(x,n,p)\n",
    "\n",
    "x1 = binom.pmf(3,5,0.75)\n",
    "\n",
    "print(x1)"
   ]
  },
  {
   "cell_type": "code",
   "execution_count": null,
   "id": "1fadcab7",
   "metadata": {},
   "outputs": [],
   "source": [
    "# 5)\n",
    "# A pharmaceutical lab states that a drug causes negative side effects in 3 of every 100 patients. \n",
    "# To confirm this affirmation, another laboratory chooses 5 people at random who have consumed the drug. \n",
    "# What is the probability of the following events?\n",
    "# 1.None of the five patients experience side effects.\n",
    "# 2.At least two experience side effects.\n"
   ]
  },
  {
   "cell_type": "code",
   "execution_count": 7,
   "id": "cc73920e",
   "metadata": {},
   "outputs": [
    {
     "name": "stdout",
     "output_type": "stream",
     "text": [
      "0.8587340256999999\n",
      "0.008472052799999963\n"
     ]
    }
   ],
   "source": [
    "# p =3/100\n",
    "# q =97/100\n",
    "# n = 5\n",
    "# x1 = 0\n",
    "# x2 >= 2\n",
    "\n",
    "# binom.pmf(x,n,p)\n",
    "\n",
    "# 1)\n",
    "x1 = binom.pmf(0,5,3/100)\n",
    "\n",
    "# 2)\n",
    "x2 = 1 - binom.cdf(1,5,3/100)\n",
    "\n",
    "print(x1)\n",
    "print(x2)"
   ]
  },
  {
   "cell_type": "code",
   "execution_count": null,
   "id": "c776db22",
   "metadata": {},
   "outputs": [],
   "source": [
    "# 6)\n",
    "# A box of candies has many different colors in it.\n",
    "# There is a 15% chance of getting a pink candy.\n",
    "# What is the probability that exactly 4 candies in a box are pink out of 10?"
   ]
  },
  {
   "cell_type": "code",
   "execution_count": null,
   "id": "4b93d50e",
   "metadata": {},
   "outputs": [],
   "source": [
    "# p =0.15\n",
    "# q =0.85\n",
    "# n =10\n",
    "# x =4\n",
    "\n",
    "# binom.pmf(x,n,p)\n",
    "\n",
    "x1 = binom.pmf(4,10,0.15)\n",
    "\n",
    "print(x1)"
   ]
  },
  {
   "cell_type": "code",
   "execution_count": null,
   "id": "c01aeb8f",
   "metadata": {},
   "outputs": [],
   "source": [
    "# 7)\n",
    "# Your basketball team is playing a series of 5 games against your opponent.                 \n",
    "# The winner is those who wins more games (out of 5).\n",
    "# Let assume that your team is much more skilled and has 75% chances of winning. It means there is a 25% chance of losing.\n",
    "# What is the probability of your team get 3 wins?\n"
   ]
  },
  {
   "cell_type": "code",
   "execution_count": 8,
   "id": "9985f6f8",
   "metadata": {},
   "outputs": [
    {
     "name": "stdout",
     "output_type": "stream",
     "text": [
      "0.26367187499999983\n"
     ]
    }
   ],
   "source": [
    "# p =0.75\n",
    "# q =0.25\n",
    "# n =5\n",
    "# x =3\n",
    "\n",
    "# binom.pmf(x,n,p)\n",
    "\n",
    "x1 = binom.pmf(3,5,0.75)\n",
    "\n",
    "print(x1)"
   ]
  },
  {
   "cell_type": "code",
   "execution_count": null,
   "id": "2f82b2bf",
   "metadata": {},
   "outputs": [],
   "source": [
    "# 8)\n",
    "# Let’s say that 80% of all business startups in the IT industry report that they generate a profit in their first year. \n",
    "# If a sample of 10 new IT business startups is selected, \n",
    "# find the probability that exactly seven will generate a profit in their first year.\n",
    "# First, do we satisfy the conditions of the binomial distribution?\n",
    "# There are only two possible mutually exclusive outcomes – to generate a profit in the first year or not (yes or no).\n",
    "# There are a fixed number of trails (startups) – 10.\n",
    "# The IT startups are independent and it is reasonable to assume that this is true.\n",
    "# The probability of success for each startup is 0.8\n"
   ]
  },
  {
   "cell_type": "code",
   "execution_count": 9,
   "id": "7e731616",
   "metadata": {},
   "outputs": [
    {
     "name": "stdout",
     "output_type": "stream",
     "text": [
      "0.20132659199999978\n"
     ]
    }
   ],
   "source": [
    "# p =0.80\n",
    "# q =0.20\n",
    "# n =10\n",
    "# x =7\n",
    "\n",
    "# binom.pmf(x,n,p)\n",
    "\n",
    "x1 = binom.pmf(7,10,0.80)\n",
    "\n",
    "print(x1)"
   ]
  },
  {
   "cell_type": "code",
   "execution_count": null,
   "id": "c4f662b2",
   "metadata": {},
   "outputs": [],
   "source": [
    "# 9)\n",
    "# If X is binomially distributed with 6 trials and a probability of success equal to 1 /4 at each attempt, \n",
    "# what is the probability of:\n",
    "# (a) exactly 4 successes \n",
    "# (b) at least one success?\n"
   ]
  },
  {
   "cell_type": "code",
   "execution_count": 11,
   "id": "e329fb2e",
   "metadata": {},
   "outputs": [
    {
     "name": "stdout",
     "output_type": "stream",
     "text": [
      "0.03295898437499997\n",
      "0.999755859375\n"
     ]
    }
   ],
   "source": [
    "# p =1/4\n",
    "# q =3/4\n",
    "# n = 6\n",
    "# x1 = 4\n",
    "# x2 >= 1\n",
    "\n",
    "# binom.pmf(x,n,p)\n",
    "\n",
    "# 1)\n",
    "x1 = binom.pmf(4,6,1/4)\n",
    "\n",
    "# 2)\n",
    "x2 = 1 - binom.pmf(0,6,3/4)\n",
    "\n",
    "print(x1)\n",
    "print(x2)"
   ]
  },
  {
   "cell_type": "code",
   "execution_count": null,
   "id": "1e394a20",
   "metadata": {},
   "outputs": [],
   "source": [
    "# 10)\n",
    "# There are 10 balls  in a bowl ,  3 of the balls are red and 7 of them are blue. \n",
    "# If  drawing a red ball is defined as success and sampling is with replacement, \n",
    "# find the probability of getting 5 red balls in 20 trials.\n"
   ]
  },
  {
   "cell_type": "code",
   "execution_count": 12,
   "id": "c166a36f",
   "metadata": {},
   "outputs": [
    {
     "name": "stdout",
     "output_type": "stream",
     "text": [
      "0.17886305056987964\n"
     ]
    }
   ],
   "source": [
    "# p =0.30\n",
    "# q =0.70\n",
    "# n =20\n",
    "# x =5\n",
    "\n",
    "# binom.pmf(x,n,p)\n",
    "\n",
    "x1 = binom.pmf(5,20,0.30)\n",
    "\n",
    "print(x1)"
   ]
  }
 ],
 "metadata": {
  "kernelspec": {
   "display_name": "Python 3 (ipykernel)",
   "language": "python",
   "name": "python3"
  },
  "language_info": {
   "codemirror_mode": {
    "name": "ipython",
    "version": 3
   },
   "file_extension": ".py",
   "mimetype": "text/x-python",
   "name": "python",
   "nbconvert_exporter": "python",
   "pygments_lexer": "ipython3",
   "version": "3.9.12"
  }
 },
 "nbformat": 4,
 "nbformat_minor": 5
}
